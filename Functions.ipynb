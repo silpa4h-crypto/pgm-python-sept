{
  "nbformat": 4,
  "nbformat_minor": 0,
  "metadata": {
    "colab": {
      "provenance": [],
      "authorship_tag": "ABX9TyNmo5TnP7pWUUZcZU+0hjGr",
      "include_colab_link": true
    },
    "kernelspec": {
      "name": "python3",
      "display_name": "Python 3"
    },
    "language_info": {
      "name": "python"
    }
  },
  "cells": [
    {
      "cell_type": "markdown",
      "metadata": {
        "id": "view-in-github",
        "colab_type": "text"
      },
      "source": [
        "<a href=\"https://colab.research.google.com/github/silpa4h-crypto/pgm-python-sept/blob/main/Functions.ipynb\" target=\"_parent\"><img src=\"https://colab.research.google.com/assets/colab-badge.svg\" alt=\"Open In Colab\"/></a>"
      ]
    },
    {
      "cell_type": "code",
      "execution_count": null,
      "metadata": {
        "id": "Sl7V2Rl7jctO"
      },
      "outputs": [],
      "source": [
        "def functionname():\n",
        "  statements\n",
        "  statements\n",
        "  statements\n",
        "  return result\n",
        "\n",
        "  functionname()\n"
      ]
    },
    {
      "cell_type": "code",
      "source": [
        "def greet():\n",
        "  print(\"Hello welcome to kerala\")\n",
        "  print(\"How can I help you?\")\n",
        "\n"
      ],
      "metadata": {
        "id": "QIGHR5lnn3_Q"
      },
      "execution_count": null,
      "outputs": []
    },
    {
      "cell_type": "code",
      "source": [
        "greet()\n"
      ],
      "metadata": {
        "colab": {
          "base_uri": "https://localhost:8080/"
        },
        "id": "RTVTS6TJoV8c",
        "outputId": "808e4b6b-edce-4cb1-c429-3133cd5db394"
      },
      "execution_count": null,
      "outputs": [
        {
          "output_type": "stream",
          "name": "stdout",
          "text": [
            "Hello welcome to kerala\n",
            "How can I help you?\n"
          ]
        }
      ]
    },
    {
      "cell_type": "code",
      "source": [
        "greet()"
      ],
      "metadata": {
        "colab": {
          "base_uri": "https://localhost:8080/"
        },
        "id": "b2Ds74XBocjV",
        "outputId": "08d806ec-6a20-4b92-dc2f-c626bc8e90a1"
      },
      "execution_count": null,
      "outputs": [
        {
          "output_type": "stream",
          "name": "stdout",
          "text": [
            "Hello welcome to kerala\n",
            "How can I help you?\n"
          ]
        }
      ]
    },
    {
      "cell_type": "code",
      "source": [
        "def greet(name, timeofday):\n",
        "   print(f\" {timeofday}, {name}, welcome to kerala\")\n",
        "   print(\"How can I help you?\")"
      ],
      "metadata": {
        "id": "ZtJRO2ifqWTE"
      },
      "execution_count": null,
      "outputs": []
    },
    {
      "cell_type": "code",
      "source": [
        "visitor_name=input(\"please enter your name :\")\n",
        "greet(visitor_name,\"morning\")"
      ],
      "metadata": {
        "colab": {
          "base_uri": "https://localhost:8080/"
        },
        "id": "ZK_rJ8fyq-vt",
        "outputId": "dcc1b43c-2d8f-499f-fd90-5da308af8dba"
      },
      "execution_count": null,
      "outputs": [
        {
          "output_type": "stream",
          "name": "stdout",
          "text": [
            "please enter your name :maya\n",
            " morning, maya, welcome to kerala\n",
            "How can I help you?\n"
          ]
        }
      ]
    },
    {
      "cell_type": "code",
      "source": [
        "visitor_name=input(\"please enter your name :\")\n",
        "greet(visitor_name,\"morning\")\n"
      ],
      "metadata": {
        "colab": {
          "base_uri": "https://localhost:8080/"
        },
        "id": "u58q9SHRq1FV",
        "outputId": "ce84565f-5c68-461a-9fc8-cb3cfe110e68"
      },
      "execution_count": null,
      "outputs": [
        {
          "output_type": "stream",
          "name": "stdout",
          "text": [
            "please enter your name :malu\n",
            " morning, malu, welcome to kerala\n",
            "How can I help you?\n"
          ]
        }
      ]
    },
    {
      "cell_type": "code",
      "source": [
        "visitor_name=input(\"please enter your name :\")\n",
        "greet(visitor_name,\"afternoon\")"
      ],
      "metadata": {
        "colab": {
          "base_uri": "https://localhost:8080/"
        },
        "id": "SasRYc_7tAt6",
        "outputId": "f91270f6-825c-4027-b9a8-a665cdaa81c3"
      },
      "execution_count": null,
      "outputs": [
        {
          "output_type": "stream",
          "name": "stdout",
          "text": [
            "please enter your name :ammu\n",
            " afternoon, ammu, welcome to kerala\n",
            "How can I help you?\n"
          ]
        }
      ]
    },
    {
      "cell_type": "code",
      "source": [
        "from datetime import datetime\n",
        "cur_time=datetime.now()\n",
        "print(cur_time)"
      ],
      "metadata": {
        "colab": {
          "base_uri": "https://localhost:8080/"
        },
        "id": "WW376NQWsOcq",
        "outputId": "7a952609-c43b-4854-93bc-1f3ad4a9eff2"
      },
      "execution_count": null,
      "outputs": [
        {
          "output_type": "stream",
          "name": "stdout",
          "text": [
            "2025-10-11 05:29:56.439046\n"
          ]
        }
      ]
    },
    {
      "cell_type": "code",
      "source": [],
      "metadata": {
        "id": "c-JB3HH6w7e8"
      },
      "execution_count": null,
      "outputs": []
    },
    {
      "cell_type": "code",
      "source": [
        "from datetime import datetime\n",
        "\n",
        "def greetwithTime(name):\n",
        "   cur_time = datetime.now().hour\n",
        "\n",
        "  if cur_time >= 0 and cur_time < 12:\n",
        "   timeofday = \"Good Morning\"\n",
        "  elif cur_time >= 12 and cur_time < 16:\n",
        "    timeofday = \"Good Afternoon\"\n",
        "  else:\n",
        "    timeofday = \"Good Evening\"\n",
        "\n",
        "  print(f\"Hello {name} {timeofday}, Welcome to India\")\n",
        "  print(\"How May I help you\")\n",
        "\n",
        "\n",
        "\n",
        "visitor_name = input(\"enter your name:\")\n",
        "greetwithTime(visitor_name)"
      ],
      "metadata": {
        "colab": {
          "base_uri": "https://localhost:8080/"
        },
        "id": "WS3WMsxWsuIh",
        "outputId": "cc4817d2-9d3f-4577-a5d4-8b62640f615b"
      },
      "execution_count": null,
      "outputs": [
        {
          "output_type": "stream",
          "name": "stdout",
          "text": [
            "enter your name:malu\n",
            "Hello malu Good Morning, Welcome to India\n",
            "How May I help you\n"
          ]
        }
      ]
    },
    {
      "cell_type": "code",
      "source": [
        "def intro(name,age,place):\n",
        "   print(f\"Hello {name} you are {age} years old and you are from {place}\")\n",
        "\n",
        "intro(\"anju\", 25 , \"Cochin\")"
      ],
      "metadata": {
        "colab": {
          "base_uri": "https://localhost:8080/"
        },
        "id": "cSV871AhxIkH",
        "outputId": "7c702651-96cd-478e-afae-d67717949668"
      },
      "execution_count": null,
      "outputs": [
        {
          "output_type": "stream",
          "name": "stdout",
          "text": [
            "Hello anju you are 25 years old and you are from Cochin\n"
          ]
        }
      ]
    },
    {
      "cell_type": "code",
      "source": [
        "def intro(name,age,place):\n",
        "   print(f\"Hello {name} you are {age} years old and you are from {place}\")\n",
        "\n",
        "\n",
        "intro(\"anju\", 20 , \"Cochin\")\n",
        "\n"
      ],
      "metadata": {
        "colab": {
          "base_uri": "https://localhost:8080/"
        },
        "id": "LWC5CNu4v8C5",
        "outputId": "688581fc-5611-476a-87a7-eff5944177d5"
      },
      "execution_count": null,
      "outputs": [
        {
          "output_type": "stream",
          "name": "stdout",
          "text": [
            "Hello anju you are 20 years old and you are from Cochin\n"
          ]
        }
      ]
    },
    {
      "cell_type": "code",
      "source": [
        "def intro(name,age,place):\n",
        "   print(f\"Hello {name} you are {age} years old and you are from {place}\")\n",
        "\n",
        "intro(\"anju\", 20 , \"Cochin\")\n",
        "\n",
        "intro(age=20,name=\"anju\" ,place=\"Cochin\")"
      ],
      "metadata": {
        "colab": {
          "base_uri": "https://localhost:8080/"
        },
        "id": "2INkkk480VX8",
        "outputId": "f2d5a4c0-ea8c-4683-d40d-98468b3386f1"
      },
      "execution_count": null,
      "outputs": [
        {
          "output_type": "stream",
          "name": "stdout",
          "text": [
            "Hello anju you are 20 years old and you are from Cochin\n",
            "Hello anju you are 20 years old and you are from Cochin\n"
          ]
        }
      ]
    },
    {
      "cell_type": "code",
      "source": [
        "import statistics as stat\n",
        "\n",
        "def createStatSummary(data):\n",
        "  mean_val = stat.mean(data)\n",
        "  median_val = stat.median(data)\n",
        "  mode_val = stat.mode(data)\n",
        "  print(f\"Mean = {mean_val} median = {median_val} mode={mode_val}\")\n",
        "\n",
        "numbers = [10,20,30,15,13,20,40,45,22,34,56,90,25]\n",
        "createStatSummary(numbers)"
      ],
      "metadata": {
        "colab": {
          "base_uri": "https://localhost:8080/"
        },
        "id": "bJ2UWdGf04_6",
        "outputId": "c7fec48b-71c3-4ff4-8acb-2e3ce201adb3"
      },
      "execution_count": null,
      "outputs": [
        {
          "output_type": "stream",
          "name": "stdout",
          "text": [
            "Mean = 32.30769230769231 median = 25 mode=20\n"
          ]
        }
      ]
    },
    {
      "cell_type": "code",
      "source": [
        "import statistics as stat\n",
        "\n",
        "def createStatSummary(data):\n",
        "  mean_val = stat.mean(data)\n",
        "  median_val = stat.median(data)\n",
        "  mode_val = stat.mode(data)\n",
        "  return mean_val, median_val, mode_val\n",
        "\n",
        "numbers = [10,20,30,15,20,40,45,22,20,65,32,34,30]\n",
        "\n",
        "mean_v, median_v, mode_v = createStatSummary(numbers)\n",
        "\n",
        "print(f\"Mean: {mean_v}\")\n",
        "print(f\"Median: {median_v}\")\n",
        "print(f\"Mode: {mode_v}\")"
      ],
      "metadata": {
        "colab": {
          "base_uri": "https://localhost:8080/"
        },
        "id": "9BQuZeVt3K_4",
        "outputId": "7b488f44-5997-47e9-ab5d-ed10c46d220c"
      },
      "execution_count": null,
      "outputs": [
        {
          "output_type": "stream",
          "name": "stdout",
          "text": [
            "Mean: 29.46153846153846\n",
            "Median: 30\n",
            "Mode: 20\n"
          ]
        }
      ]
    },
    {
      "cell_type": "code",
      "source": [
        "import statistics as stat\n",
        "\n",
        "def createStatSummary(data):\n",
        "   mean_val = stat.mean(data)\n",
        "   median_val = stat.median(data)\n",
        "   mode_val = stat.mode(data)\n",
        "   print(mean_val)\n",
        "   return mean_val\n",
        "\n",
        "numbers = [10,20,30,15,20,40,45, 22, 20,65,32,34,30]\n",
        "mean_v = createStatSummary (numbers)\n",
        "\n",
        "if mean_v > 30:\n",
        "   print(\"Mean is greater than 30\")\n",
        "else:\n",
        "   print(\"Mean is less than 30\")"
      ],
      "metadata": {
        "colab": {
          "base_uri": "https://localhost:8080/"
        },
        "id": "1ebQbRuu405W",
        "outputId": "eb347aa7-2b6b-4ce3-af94-eb3ef7095933"
      },
      "execution_count": null,
      "outputs": [
        {
          "output_type": "stream",
          "name": "stdout",
          "text": [
            "29.46153846153846\n",
            "Mean is less than 30\n"
          ]
        }
      ]
    },
    {
      "cell_type": "code",
      "source": [
        "def intro(name,age,place):\n",
        "   print(f\"Hello {name} you are {age} years old and you are from {place}\")\n",
        "\n",
        "intro(\"anju\",20,\"Unknown\") # Added a default value for place\n",
        "intro(\"Anna\",20,\"Trivandrum\")"
      ],
      "metadata": {
        "colab": {
          "base_uri": "https://localhost:8080/"
        },
        "id": "D8BAoVX3AwrX",
        "outputId": "93a4c739-918e-4bd7-bdb6-4ce3405e8370"
      },
      "execution_count": null,
      "outputs": [
        {
          "output_type": "stream",
          "name": "stdout",
          "text": [
            "Hello anju you are 20 years old and you are from Unknown\n",
            "Hello Anna you are 20 years old and you are from Trivandrum\n"
          ]
        }
      ]
    },
    {
      "cell_type": "code",
      "source": [
        "def total_bill(itemprice,itemqty,itemdiscount=0.1,taxpercent=0.18):\n",
        "  bill_amt = itemprice * itemqty * (1-itemdiscount)\n",
        "  total_bill_amt = bill_amt + bill_amt*taxpercent\n",
        "  return total_bill_amt\n",
        "\n",
        "  #total-bill(1000,2,.15)\n",
        "total_bill(1000,2)"
      ],
      "metadata": {
        "colab": {
          "base_uri": "https://localhost:8080/"
        },
        "id": "9trhl8ue_rC1",
        "outputId": "ccf56901-0fcb-430d-8bf6-e9eeae1ed241"
      },
      "execution_count": null,
      "outputs": [
        {
          "output_type": "execute_result",
          "data": {
            "text/plain": [
              "2124.0"
            ]
          },
          "metadata": {},
          "execution_count": 109
        }
      ]
    },
    {
      "cell_type": "code",
      "source": [
        "def make_pizza(*toppings):\n",
        "\n",
        "  print(\"pizza with the toppings:\")\n",
        "\n",
        "  for top in toppings:\n",
        "    print(\"-\",top)\n",
        "\n",
        "  print(\"Total toppings \", len(toppings))\n",
        "\n",
        "make_pizza(\"cheese\",\"onions\",\"capsicum\",\"corn\",\"chicken\")\n",
        "\n",
        "# make_pizza(\"cheese\", \"onions\", \"capsicum\")\n",
        "\n",
        "# make_pizza(\"cheese\", \"onions\", \"capsicum\", \"corn\", \"chicken\")"
      ],
      "metadata": {
        "colab": {
          "base_uri": "https://localhost:8080/"
        },
        "id": "OWmgxpKWDBfn",
        "outputId": "ceafe5f5-0a90-47fc-ecd6-a94403e3ebd6"
      },
      "execution_count": null,
      "outputs": [
        {
          "output_type": "stream",
          "name": "stdout",
          "text": [
            "pizza with the toppings:\n",
            "- cheese\n",
            "- onions\n",
            "- capsicum\n",
            "- corn\n",
            "- chicken\n",
            "Total toppings  5\n"
          ]
        }
      ]
    },
    {
      "cell_type": "code",
      "source": [
        "def make_pizza(*toppings):\n",
        "\n",
        "   print(type(toppings))\n",
        "\n",
        "   print(f\"The toppings for the pizza are {toppings}\")\n",
        "\n",
        "   for top in toppings:\n",
        "\n",
        "      print(\"-\",top)\n",
        "\n",
        "   print(\"total toppings \", toppings)\n",
        "\n",
        "# make_pizza(\"cheese\")\n",
        "\n",
        "make_pizza(\"cheese\", \"onions\", \"capsicum\")\n",
        "\n",
        "#make_pizza(\"cheese\", \"onions\", \"capsicum\", \"olives\")"
      ],
      "metadata": {
        "colab": {
          "base_uri": "https://localhost:8080/"
        },
        "id": "zGJu37mWF-XG",
        "outputId": "afadf211-865b-4cc2-be0d-7770c417624e"
      },
      "execution_count": null,
      "outputs": [
        {
          "output_type": "stream",
          "name": "stdout",
          "text": [
            "<class 'tuple'>\n",
            "The toppings for the pizza are ('cheese', 'onions', 'capsicum')\n",
            "- cheese\n",
            "- onions\n",
            "- capsicum\n",
            "total toppings  ('cheese', 'onions', 'capsicum')\n"
          ]
        }
      ]
    },
    {
      "cell_type": "code",
      "source": [
        "def create_profile(**details):\n",
        "    print(\"profile details\")\n",
        "    print(\"----------------\")\n",
        "    for k,v in details.items():\n",
        "        print(f\"{k}:  {v}\")\n",
        "    print(\"----------------\")\n",
        "\n",
        "\n",
        "\n",
        "create_profile(name=\"anju\",age=20,place=\"cochin\")\n",
        "create_profile(name=\"balu\",age=24,graduation=\"BTech\" ,Score=4.5)\n",
        "create_profile(name=\"veena\",age=28,course=\"BArch\", place=\"trivandrum\")"
      ],
      "metadata": {
        "colab": {
          "base_uri": "https://localhost:8080/"
        },
        "id": "VWdw6zqdG37g",
        "outputId": "19017a54-9f1d-43cc-bedb-d7837df0e931"
      },
      "execution_count": null,
      "outputs": [
        {
          "output_type": "stream",
          "name": "stdout",
          "text": [
            "profile details\n",
            "----------------\n",
            "name:  anju\n",
            "age:  20\n",
            "place:  cochin\n",
            "----------------\n",
            "profile details\n",
            "----------------\n",
            "name:  balu\n",
            "age:  24\n",
            "graduation:  BTech\n",
            "Score:  4.5\n",
            "----------------\n",
            "profile details\n",
            "----------------\n",
            "name:  veena\n",
            "age:  28\n",
            "course:  BArch\n",
            "place:  trivandrum\n",
            "----------------\n"
          ]
        }
      ]
    },
    {
      "cell_type": "markdown",
      "source": [
        "LAMDA\n"
      ],
      "metadata": {
        "id": "k-SxME9BJ7iP"
      }
    },
    {
      "cell_type": "code",
      "source": [
        "add = lamda x,y:x+y\n",
        "add(5,12)"
      ],
      "metadata": {
        "colab": {
          "base_uri": "https://localhost:8080/"
        },
        "id": "WL-35VYhJ-5a",
        "outputId": "b87fde86-38f6-4b1f-bf91-9e66358e68a1"
      },
      "execution_count": null,
      "outputs": [
        {
          "output_type": "execute_result",
          "data": {
            "text/plain": [
              "17"
            ]
          },
          "metadata": {},
          "execution_count": 120
        }
      ]
    },
    {
      "cell_type": "code",
      "source": [
        "price = [100,150,120,200,250]\n",
        "\n",
        "disc_prices = list( map(lambda x : x*.9,price))\n",
        "disc_prices"
      ],
      "metadata": {
        "colab": {
          "base_uri": "https://localhost:8080/"
        },
        "id": "u3XQAb6AKIlZ",
        "outputId": "f563446d-66bc-431d-f164-f85114560f52"
      },
      "execution_count": null,
      "outputs": [
        {
          "output_type": "execute_result",
          "data": {
            "text/plain": [
              "[90.0, 135.0, 108.0, 180.0, 225.0]"
            ]
          },
          "metadata": {},
          "execution_count": 125
        }
      ]
    },
    {
      "cell_type": "code",
      "source": [
        "low_vals = list(filter(lambda x : x<150,disc_prices))\n",
        "low_vals"
      ],
      "metadata": {
        "colab": {
          "base_uri": "https://localhost:8080/"
        },
        "id": "3BGYaWD-Kvjn",
        "outputId": "b1ea4656-e2c5-40fc-fcdc-9c631181db53"
      },
      "execution_count": null,
      "outputs": [
        {
          "output_type": "execute_result",
          "data": {
            "text/plain": [
              "[90.0, 135.0, 108.0]"
            ]
          },
          "metadata": {},
          "execution_count": 127
        }
      ]
    },
    {
      "cell_type": "code",
      "source": [],
      "metadata": {
        "id": "poZpAhL1LzW2"
      },
      "execution_count": null,
      "outputs": []
    }
  ]
}