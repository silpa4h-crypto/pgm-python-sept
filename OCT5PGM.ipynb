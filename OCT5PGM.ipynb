{
  "nbformat": 4,
  "nbformat_minor": 0,
  "metadata": {
    "colab": {
      "provenance": [],
      "authorship_tag": "ABX9TyOstqlnR4t1MxmY3/6HO3PR",
      "include_colab_link": true
    },
    "kernelspec": {
      "name": "python3",
      "display_name": "Python 3"
    },
    "language_info": {
      "name": "python"
    }
  },
  "cells": [
    {
      "cell_type": "markdown",
      "metadata": {
        "id": "view-in-github",
        "colab_type": "text"
      },
      "source": [
        "<a href=\"https://colab.research.google.com/github/silpa4h-crypto/pgm-python-sept/blob/main/OCT5PGM.ipynb\" target=\"_parent\"><img src=\"https://colab.research.google.com/assets/colab-badge.svg\" alt=\"Open In Colab\"/></a>"
      ]
    },
    {
      "cell_type": "markdown",
      "source": [
        "**1.Write a python function to find the product of 2 numbers.**"
      ],
      "metadata": {
        "id": "fkuESR880a3F"
      }
    },
    {
      "cell_type": "code",
      "execution_count": 11,
      "metadata": {
        "colab": {
          "base_uri": "https://localhost:8080/"
        },
        "id": "BKS_MNAEtTNN",
        "outputId": "1fcd07f7-1aa6-4fdd-f792-bcbc23f852c5"
      },
      "outputs": [
        {
          "output_type": "stream",
          "name": "stdout",
          "text": [
            "enter first number:5\n",
            "enter second number:2\n",
            "the product is: 10.0\n"
          ]
        }
      ],
      "source": [
        "def multiply_numbers(a,b):\n",
        "    product=a*b\n",
        "    return product\n",
        "\n",
        "num1=float(input(\"enter first number:\"))\n",
        "num2=float(input(\"enter second number:\"))\n",
        "result=multiply_numbers(num1,num2)\n",
        "\n",
        "print(\"the product is:\",result)"
      ]
    },
    {
      "cell_type": "markdown",
      "source": [
        "**2.Write a python program to check if the entered string is palindrome or\n",
        "not. Get the input string from user (A palindrome is a word, phrase,\n",
        "number, or sequence of characters that reads the same backward as\n",
        "forward)bold text**"
      ],
      "metadata": {
        "id": "3GaOGR_u0jrB"
      }
    },
    {
      "cell_type": "code",
      "source": [
        "text=input(\"enter a string:\")\n",
        "\n",
        "if text == text[::-1]:\n",
        "\n",
        "   print(\"palindrome\")\n",
        "\n",
        "else:\n",
        "\n",
        "   print(\"not palindrome\")"
      ],
      "metadata": {
        "colab": {
          "base_uri": "https://localhost:8080/"
        },
        "id": "gWqux7Qwt3yR",
        "outputId": "103f6d2d-816d-4f51-a8a6-15bd3c4e004f"
      },
      "execution_count": 10,
      "outputs": [
        {
          "output_type": "stream",
          "name": "stdout",
          "text": [
            "enter a string:malayalam\n",
            "palindrome\n"
          ]
        }
      ]
    },
    {
      "cell_type": "markdown",
      "source": [
        "**3.Write a python program to check if the given number is divisible by 9**"
      ],
      "metadata": {
        "id": "6DKwaFk70tlx"
      }
    },
    {
      "cell_type": "code",
      "source": [
        "num=int(input(\"enter a number:\"))\n",
        "if num%9==0:\n",
        "  print(\"the number is divisible by 9\")\n",
        "else:\n",
        "  print(\"the number is not divisible by 9\")\n",
        ""
      ],
      "metadata": {
        "colab": {
          "base_uri": "https://localhost:8080/"
        },
        "id": "L_sQ3Vbtv8tr",
        "outputId": "366ae5da-77f4-4ed4-c9dd-db9893a5d980"
      },
      "execution_count": 9,
      "outputs": [
        {
          "output_type": "stream",
          "name": "stdout",
          "text": [
            "enter a number:30\n",
            "the number is not divisible by 9\n"
          ]
        }
      ]
    },
    {
      "cell_type": "markdown",
      "source": [
        "**4.Write a python program to print odd numbers between 300 and 500**"
      ],
      "metadata": {
        "id": "cWBwLuvI04BM"
      }
    },
    {
      "cell_type": "code",
      "source": [
        "for num in range(300,501):\n",
        "  if num%2!=0:\n",
        "    print(num)"
      ],
      "metadata": {
        "colab": {
          "base_uri": "https://localhost:8080/"
        },
        "id": "HlfIw5_ixLSd",
        "outputId": "775ceac0-e3c4-430f-a94a-98dc2c20f386"
      },
      "execution_count": 12,
      "outputs": [
        {
          "output_type": "stream",
          "name": "stdout",
          "text": [
            "301\n",
            "303\n",
            "305\n",
            "307\n",
            "309\n",
            "311\n",
            "313\n",
            "315\n",
            "317\n",
            "319\n",
            "321\n",
            "323\n",
            "325\n",
            "327\n",
            "329\n",
            "331\n",
            "333\n",
            "335\n",
            "337\n",
            "339\n",
            "341\n",
            "343\n",
            "345\n",
            "347\n",
            "349\n",
            "351\n",
            "353\n",
            "355\n",
            "357\n",
            "359\n",
            "361\n",
            "363\n",
            "365\n",
            "367\n",
            "369\n",
            "371\n",
            "373\n",
            "375\n",
            "377\n",
            "379\n",
            "381\n",
            "383\n",
            "385\n",
            "387\n",
            "389\n",
            "391\n",
            "393\n",
            "395\n",
            "397\n",
            "399\n",
            "401\n",
            "403\n",
            "405\n",
            "407\n",
            "409\n",
            "411\n",
            "413\n",
            "415\n",
            "417\n",
            "419\n",
            "421\n",
            "423\n",
            "425\n",
            "427\n",
            "429\n",
            "431\n",
            "433\n",
            "435\n",
            "437\n",
            "439\n",
            "441\n",
            "443\n",
            "445\n",
            "447\n",
            "449\n",
            "451\n",
            "453\n",
            "455\n",
            "457\n",
            "459\n",
            "461\n",
            "463\n",
            "465\n",
            "467\n",
            "469\n",
            "471\n",
            "473\n",
            "475\n",
            "477\n",
            "479\n",
            "481\n",
            "483\n",
            "485\n",
            "487\n",
            "489\n",
            "491\n",
            "493\n",
            "495\n",
            "497\n",
            "499\n"
          ]
        }
      ]
    },
    {
      "cell_type": "markdown",
      "source": [
        "**5.Get two numbers from user and print their sum, difference, product\n",
        "and quotient after division**"
      ],
      "metadata": {
        "id": "VqBeZdHY1A7a"
      }
    },
    {
      "cell_type": "code",
      "source": [
        "num1=float(input(\"enter first number:\"))\n",
        "num2=float(input(\"enter second number:\"))\n",
        "\n",
        "sum_result=num1+num2\n",
        "difference=num1-num2\n",
        "product=num1*num2\n",
        "quotient=num1/num2\n",
        "\n",
        "print(\"sum:,sum_result\")\n",
        "print(\"difference:\",difference)\n",
        "print(\"product:\",product)\n",
        "print(\"quotient:\",quotient)"
      ],
      "metadata": {
        "colab": {
          "base_uri": "https://localhost:8080/"
        },
        "id": "bd7_Hexly2Od",
        "outputId": "55610cc4-f52b-4d9c-8483-b19bc27edea6"
      },
      "execution_count": 14,
      "outputs": [
        {
          "output_type": "stream",
          "name": "stdout",
          "text": [
            "enter first number:10\n",
            "enter second number:5\n",
            "sum:,sum_result\n",
            "difference: 5.0\n",
            "product: 50.0\n",
            "quotient: 2.0\n"
          ]
        }
      ]
    },
    {
      "cell_type": "code",
      "source": [],
      "metadata": {
        "id": "e-EaDoRi0F9S"
      },
      "execution_count": null,
      "outputs": []
    }
  ]
}