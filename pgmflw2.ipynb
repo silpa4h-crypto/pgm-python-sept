{
  "nbformat": 4,
  "nbformat_minor": 0,
  "metadata": {
    "colab": {
      "provenance": [],
      "authorship_tag": "ABX9TyNBSagz/annWj2zYl7mO31O",
      "include_colab_link": true
    },
    "kernelspec": {
      "name": "python3",
      "display_name": "Python 3"
    },
    "language_info": {
      "name": "python"
    }
  },
  "cells": [
    {
      "cell_type": "markdown",
      "metadata": {
        "id": "view-in-github",
        "colab_type": "text"
      },
      "source": [
        "<a href=\"https://colab.research.google.com/github/silpa4h-crypto/pgm-python-sept/blob/main/pgmflw2.ipynb\" target=\"_parent\"><img src=\"https://colab.research.google.com/assets/colab-badge.svg\" alt=\"Open In Colab\"/></a>"
      ]
    },
    {
      "cell_type": "code",
      "execution_count": null,
      "metadata": {
        "id": "rwm502hV8z-d"
      },
      "outputs": [],
      "source": []
    },
    {
      "cell_type": "markdown",
      "source": [
        "PGM FLOW CTRL"
      ],
      "metadata": {
        "id": "9SKexHIM-jaY"
      }
    },
    {
      "cell_type": "code",
      "source": [
        "acc_balance=5000\n",
        "withdraw =2000\n",
        "\n",
        "if withdraw <=acc_balance:\n",
        "  balance=acc_balance - withdraw\n",
        "  print(f\"Transaction succesful.{withdraw} has been debited from your account.Balance is{balance}\")"
      ],
      "metadata": {
        "colab": {
          "base_uri": "https://localhost:8080/",
          "height": 124
        },
        "id": "O6eiCp_i-mnx",
        "outputId": "ea24d3bc-341b-4330-f7c3-9a022ce1028a"
      },
      "execution_count": 1,
      "outputs": [
        {
          "output_type": "error",
          "ename": "IndentationError",
          "evalue": "unexpected indent (ipython-input-853740165.py, line 7)",
          "traceback": [
            "\u001b[0;36m  File \u001b[0;32m\"/tmp/ipython-input-853740165.py\"\u001b[0;36m, line \u001b[0;32m7\u001b[0m\n\u001b[0;31m    print(f\"Transaction succesful.{withdraw} has been debited from your account.Balance is{balance}\")\u001b[0m\n\u001b[0m    ^\u001b[0m\n\u001b[0;31mIndentationError\u001b[0m\u001b[0;31m:\u001b[0m unexpected indent\n"
          ]
        }
      ]
    },
    {
      "cell_type": "code",
      "metadata": {
        "colab": {
          "base_uri": "https://localhost:8080/"
        },
        "id": "17002ff9",
        "outputId": "52ce5203-5668-4567-c692-0bf653531433"
      },
      "source": [
        "score = 85\n",
        "\n",
        "if score >= 90:\n",
        "  print(\"Excellent!\")\n",
        "elif score >= 80:\n",
        "  print(\"Very Good!\")\n",
        "elif score >= 70:\n",
        "  print(\"Good!\")\n",
        "else:\n",
        "  print(\"Needs Improvement.\")"
      ],
      "execution_count": 6,
      "outputs": [
        {
          "output_type": "stream",
          "name": "stdout",
          "text": [
            "Very Good!\n"
          ]
        }
      ]
    },
    {
      "cell_type": "code",
      "metadata": {
        "colab": {
          "base_uri": "https://localhost:8080/"
        },
        "id": "3cff499a",
        "outputId": "d9c08610-aa91-4789-a360-ddb5a692ef10"
      },
      "source": [
        "acc_balance=5000\n",
        "withdraw =2000\n",
        "\n",
        "if withdraw <=acc_balance:\n",
        "  balance=acc_balance - withdraw\n",
        "  print(f\"Transaction succesful.{withdraw} has been debited from your account.Balance is{balance}\")"
      ],
      "execution_count": 2,
      "outputs": [
        {
          "output_type": "stream",
          "name": "stdout",
          "text": [
            "Transaction succesful.2000 has been debited from your account.Balance is3000\n"
          ]
        }
      ]
    },
    {
      "cell_type": "markdown",
      "source": [],
      "metadata": {
        "id": "lemwyoOMBvb7"
      }
    },
    {
      "cell_type": "code",
      "source": [
        "acc_balance=5000\n",
        "withdraw =20000\n",
        "\n",
        "if withdraw <=acc_balance:\n",
        "  balance=acc_balance - withdraw\n",
        "  print(f\"Transaction succesful.{withdraw} has been debited from your account.Balance is{balance}\")\n",
        "else:\n",
        "        print(\"Insufficient balance\")\n",
        "\n"
      ],
      "metadata": {
        "colab": {
          "base_uri": "https://localhost:8080/"
        },
        "id": "-NJZW8rVCSp4",
        "outputId": "22d63b1f-287c-4eda-c664-8f009ef1d452"
      },
      "execution_count": null,
      "outputs": [
        {
          "output_type": "stream",
          "name": "stdout",
          "text": [
            "Insufficient balance\n"
          ]
        }
      ]
    },
    {
      "cell_type": "code",
      "source": [
        "user =\"admin\"\n",
        "password =\"1234\"\n",
        "if user ==\"admin\" and password == \"1234\":\n",
        "    print (\"Login successfull\")\n",
        "else:\n",
        "    print (\"Invalid credentials\")"
      ],
      "metadata": {
        "colab": {
          "base_uri": "https://localhost:8080/"
        },
        "id": "De_38uOdCaIc",
        "outputId": "6bb028f2-b585-43d7-87e1-04b2301610a7"
      },
      "execution_count": null,
      "outputs": [
        {
          "output_type": "stream",
          "name": "stdout",
          "text": [
            "Login successfull\n"
          ]
        }
      ]
    },
    {
      "cell_type": "code",
      "source": [
        "user =\"admin\"\n",
        "password =\"12345\"\n",
        "if user ==\"admin\" and password == \"1234\":\n",
        "    print (\"Login successfull\")\n",
        "else:\n",
        "    print (\"Invalid credentials\")"
      ],
      "metadata": {
        "colab": {
          "base_uri": "https://localhost:8080/"
        },
        "id": "PT1OzkphFK8U",
        "outputId": "1aa66329-5a17-4563-c34e-56fddca18a81"
      },
      "execution_count": null,
      "outputs": [
        {
          "output_type": "stream",
          "name": "stdout",
          "text": [
            "Invalid credentials\n"
          ]
        }
      ]
    },
    {
      "cell_type": "code",
      "source": [
        "a=5\n",
        "\n",
        "if a>30:\n",
        "    print(\"high value\")\n",
        "elif a>20:\n",
        "    print(\"medium valuse\")\n",
        "elif  a>10:\n",
        "  print(\"low value\")\n",
        "else:\n",
        "  print(\"least value\")\n"
      ],
      "metadata": {
        "colab": {
          "base_uri": "https://localhost:8080/"
        },
        "id": "rbiWzHcnFRTO",
        "outputId": "7df0e3a7-d6ed-4bb7-b4fc-7be343225124"
      },
      "execution_count": null,
      "outputs": [
        {
          "output_type": "stream",
          "name": "stdout",
          "text": [
            "least value\n"
          ]
        }
      ]
    },
    {
      "cell_type": "code",
      "source": [
        "a=50\n",
        "\n",
        "if a>30:\n",
        "    print(\"high value\")\n",
        "elif a>20:\n",
        "    print(\"medium valuse\")\n",
        "elif  a>10:\n",
        "  print(\"low value\")\n",
        "else:\n",
        "  print(\"least value\")"
      ],
      "metadata": {
        "colab": {
          "base_uri": "https://localhost:8080/"
        },
        "id": "y5wA15AOGXF1",
        "outputId": "0ece874f-afd1-42f3-d383-0e4aaa251f4c"
      },
      "execution_count": null,
      "outputs": [
        {
          "output_type": "stream",
          "name": "stdout",
          "text": [
            "high value\n"
          ]
        }
      ]
    },
    {
      "cell_type": "code",
      "source": [
        " check_in_time=8\n",
        " if check_in_time <=9:\n",
        "    print(\"on time\")\n",
        " elif 9 <check_in_time <=10:\n",
        "    print(\"late entry\")\n",
        " else:\n",
        "      print(\"half day leave\")"
      ],
      "metadata": {
        "colab": {
          "base_uri": "https://localhost:8080/"
        },
        "id": "_4Tj2F_7Gs4h",
        "outputId": "562c4376-5fa4-43ca-841a-74baf380cc6b"
      },
      "execution_count": null,
      "outputs": [
        {
          "output_type": "stream",
          "name": "stdout",
          "text": [
            "on time\n"
          ]
        }
      ]
    },
    {
      "cell_type": "code",
      "source": [
        "check_in_time=8\n",
        "if check_in_time <=9:\n",
        "    print(\"on time\")\n",
        "elif 9 < check_in_time <= 10:\n",
        "    print(\"late entry\")\n",
        "else:\n",
        "    print(\"half day leave\")"
      ],
      "metadata": {
        "colab": {
          "base_uri": "https://localhost:8080/"
        },
        "id": "ARzUjAXtI0AH",
        "outputId": "b6d1ec3d-515c-47c7-ec41-3a6c394fffbf"
      },
      "execution_count": 5,
      "outputs": [
        {
          "output_type": "stream",
          "name": "stdout",
          "text": [
            "on time\n"
          ]
        }
      ]
    },
    {
      "cell_type": "code",
      "source": [
        "num=int(input(\"enter a number:\"))\n",
        "if num>0:\n",
        "  print(\"the number is positive\")\n",
        "elif num<0:\n",
        "  print(\"the number is negative\")\n",
        "else:\n",
        "  print(\"the number is zero\")"
      ],
      "metadata": {
        "colab": {
          "base_uri": "https://localhost:8080/"
        },
        "id": "_fpNx11RJGU9",
        "outputId": "451debe4-4e5e-41b3-f485-da0ff8666a89"
      },
      "execution_count": null,
      "outputs": [
        {
          "output_type": "stream",
          "name": "stdout",
          "text": [
            "enter a number:-6\n",
            "the number is negative\n"
          ]
        }
      ]
    },
    {
      "cell_type": "code",
      "source": [
        "total_price=float(input(\"enter total price:\"))\n",
        "if total_price>5000:\n",
        "\n",
        "   discount= total_price*.25\n",
        "   final_price =total_price-discount\n",
        "elif total_price>2000:\n",
        "\n",
        "   discount= total_price*.10\n",
        "   final_price =total_price-discount\n",
        "   print(f\"10%discount applied.final price:{final_price}\")\n",
        "else:\n",
        "  print(f\"no discount.final price:{total_price}\")\n",
        "\n"
      ],
      "metadata": {
        "colab": {
          "base_uri": "https://localhost:8080/"
        },
        "id": "xIhjUESrJct8",
        "outputId": "c5a9777c-c24a-4806-e087-87bf711b33c5"
      },
      "execution_count": null,
      "outputs": [
        {
          "output_type": "stream",
          "name": "stdout",
          "text": [
            "enter total price:3400\n",
            "10%discount applied.final price:3060.0\n"
          ]
        }
      ]
    },
    {
      "cell_type": "code",
      "source": [],
      "metadata": {
        "id": "-wtAnY6tOcEt"
      },
      "execution_count": null,
      "outputs": []
    },
    {
      "cell_type": "markdown",
      "source": [],
      "metadata": {
        "id": "UqT7vin5OHKa"
      }
    }
  ]
}